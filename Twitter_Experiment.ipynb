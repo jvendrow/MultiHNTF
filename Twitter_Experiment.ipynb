{
 "cells": [
  {
   "cell_type": "code",
   "execution_count": 1,
   "metadata": {},
   "outputs": [
    {
     "name": "stderr",
     "output_type": "stream",
     "text": [
      "Using numpy backend.\n"
     ]
    }
   ],
   "source": [
    "import torch\n",
    "import numpy as np\n",
    "from matplotlib import pyplot as plt\n",
    "import sys\n",
    "sys.path.insert(1,\"./src\")\n",
    "\n",
    "from multi_ntf import run_single, calculate_loss\n",
    "\n",
    "#\n",
    "import torch.nn as nn\n",
    "\n",
    "\n",
    "import tensorly as tl\n",
    "from tensorly import unfold as tl_unfold\n",
    "from tensorly.decomposition import parafac, non_negative_parafac"
   ]
  },
  {
   "cell_type": "code",
   "execution_count": 2,
   "metadata": {},
   "outputs": [],
   "source": [
    "words = np.load(\"./data/words_100.npy\", allow_pickle=True)\n",
    "X = np.load(\"./data/tweets_bag_100.npy\", allow_pickle=True)\n",
    "\n",
    "\n",
    "X = X.reshape((8, 10, -1))"
   ]
  },
  {
   "cell_type": "markdown",
   "metadata": {},
   "source": [
    "## Some Helper Functions for Visualizaton"
   ]
  },
  {
   "cell_type": "code",
   "execution_count": 3,
   "metadata": {},
   "outputs": [],
   "source": [
    "def display_text(Factor, n=5, latex=False):\n",
    "    \n",
    "    r = Factor.shape[1]\n",
    "    \n",
    "    keywords = np.empty((n+2,r), dtype=object)\n",
    "\n",
    "    for i in range(keywords.shape[1]):\n",
    "        keywords[0,i] = \"Topic \" + str(i+1)\n",
    "        keywords[1,i] = \"-------\"\n",
    "\n",
    "    for i in range(Factor.shape[1]):\n",
    "        col = Factor[:,i]\n",
    "        top = col.argsort()\n",
    "        top = top[-n:][::-1]\n",
    "\n",
    "        keywords[2:,i] = words[top]\n",
    "\n",
    "    if not latex:\n",
    "        print(\"\")\n",
    "        print(\"RANK\", r,  \"KEYWORDS:\")  \n",
    "        print(\"------------------\")\n",
    "\n",
    "        col_widths = [max([len(keywords[i][j]) for i in range(keywords.shape[0])])+2 for j in range(keywords.shape[1])]\n",
    "        for row in keywords:\n",
    "            print(\"\".join(row[i].ljust(col_widths[i]) for i in range(len(row))))\n",
    "    \n",
    "    else:\n",
    "        print(\"\")\n",
    "        print(\"For LaTeX table...\")  \n",
    "        print(\"------------------\")\n",
    "        col_widths = [max([len(keywords[i][j]) for i in range(keywords.shape[0])])+2 for j in range(keywords.shape[1])]\n",
    "        for i, row in enumerate(keywords):\n",
    "            if(i >= 2):\n",
    "                print(\" & \".join([row[i] for i in range(0,r//2)]) + \" \\\\\\\\\")\n",
    "        for i, row in enumerate(keywords):\n",
    "            if(i >= 2):\n",
    "                print(\" & \".join([row[i] for i in range(r//2,r)]) + \" \\\\\\\\\")\n",
    "\n",
    "        print(\"\")\n",
    "        print(\"\")\n"
   ]
  },
  {
   "cell_type": "code",
   "execution_count": 4,
   "metadata": {},
   "outputs": [],
   "source": [
    "def show_factors(Factor1, Factor2, figsize=(11,4), color = \"viridis\"):\n",
    "    \n",
    "    Factor = Factor1\n",
    "    r = Factor.shape[1]\n",
    "\n",
    "    fig, axs = plt.subplots(1, r*2, constrained_layout=True, figsize=figsize)\n",
    "\n",
    "    vmin = np.min(Factor)\n",
    "    vmax = np.max(Factor)\n",
    "\n",
    "    for i in range(r):\n",
    "\n",
    "        plt.sca(axs[i])\n",
    "        plt.xticks(range(1), range(i+1,i+2),fontsize=21)\n",
    "        if(i>0):\n",
    "            axs[i].axes.yaxis.set_ticks([])\n",
    "        else:\n",
    "            plt.yticks(range(8), ['Clinton', 'Kaine', 'O\\'Malley', 'Sanders', 'Cruz', 'Kasich', 'Rubio', 'Trump'], fontsize=18)\n",
    "        axs[i].imshow(Factor[:,[i]], cmap=plt.get_cmap(color), vmin=vmin, vmax=vmax)\n",
    "\n",
    "        ax = axs[i]\n",
    "        xleft, xright = ax.get_xlim()\n",
    "        ybottom, ytop = ax.get_ylim()\n",
    "        #ax.set_aspect(1)\n",
    "\n",
    "    Factor = Factor2\n",
    "    \n",
    "    vmin = np.min(Factor)\n",
    "    vmax = np.max(Factor)\n",
    "\n",
    "    for i in range(r):\n",
    "\n",
    "        plt.sca(axs[i+r])\n",
    "        plt.xticks(range(1), range(i+1,i+2),fontsize=21)\n",
    "        if(i>0):\n",
    "            axs[i+r].axes.yaxis.set_ticks([])\n",
    "        else:\n",
    "            plt.yticks(range(10), ['          Feb', 'Mar', 'Apr', 'May', 'Jun', 'Jul', 'Aug', 'Sep', 'Oct', 'Nov'], fontsize=18)\n",
    "        axs[i+r].imshow(Factor[:,[i]], cmap=plt.get_cmap(color), vmin=vmin, vmax=vmax)\n",
    "\n",
    "        ratio = 1\n",
    "        ax = axs[i+r]\n",
    "        xleft, xright = ax.get_xlim()\n",
    "        ybottom, ytop = ax.get_ylim()\n",
    "        #ax.set_aspect(abs((xright-xleft)/(ybottom-ytop))*ratio)\n",
    "        \n",
    "    plt.show()"
   ]
  },
  {
   "cell_type": "markdown",
   "metadata": {},
   "source": [
    "## Run Multi-HNTF Method"
   ]
  },
  {
   "cell_type": "code",
   "execution_count": 5,
   "metadata": {},
   "outputs": [],
   "source": [
    "r=8\n",
    "k = len(X.shape)\n",
    "# Factors_0 = non_negative_parafac(X, rank=r)\n",
    "\n",
    "results = np.load(\"./data/results_twitter_ncpd.npy\", allow_pickle=True).item()\n",
    "\n",
    "# Here we load in the initial factor matrices to make sure they are the same accross comparisons\n",
    "X_1 = results['X_1']\n",
    "X_2 = results['X_2']\n",
    "X_3 = results['X_3']\n",
    "Factors_0 = [X_1, X_2, X_3]"
   ]
  },
  {
   "cell_type": "code",
   "execution_count": 6,
   "metadata": {},
   "outputs": [],
   "source": [
    "np.random.seed(0)\n",
    "W = run_single(X, Factors_0, 4, N=800)\n",
    "Factors_1 = [Factors_0[i] @ W for i in range(k)]"
   ]
  },
  {
   "cell_type": "code",
   "execution_count": 7,
   "metadata": {},
   "outputs": [],
   "source": [
    "W2 = run_single(X, Factors_1, 2, N=800)\n",
    "Factors_2 = [Factors_1[i] @ W2 for i in range(k)]"
   ]
  },
  {
   "cell_type": "markdown",
   "metadata": {},
   "source": [
    "## Measure Relative Reconstruction Loss"
   ]
  },
  {
   "cell_type": "code",
   "execution_count": 8,
   "metadata": {},
   "outputs": [
    {
     "name": "stdout",
     "output_type": "stream",
     "text": [
      "0.8325597259468733\n",
      "0.885979153074565\n",
      "0.9207360875427409\n"
     ]
    }
   ],
   "source": [
    "print(calculate_loss(X, Factors_0) / np.linalg.norm(X))\n",
    "print(calculate_loss(X, Factors_1) / np.linalg.norm(X))\n",
    "print(calculate_loss(X, Factors_2) / np.linalg.norm(X))"
   ]
  },
  {
   "cell_type": "markdown",
   "metadata": {},
   "source": [
    "## Visualize the Topics"
   ]
  },
  {
   "cell_type": "code",
   "execution_count": 9,
   "metadata": {},
   "outputs": [
    {
     "name": "stdout",
     "output_type": "stream",
     "text": [
      "\n",
      "RANK 8 KEYWORDS:\n",
      "------------------\n",
      "Topic 1          Topic 2     Topic 3     Topic 4  Topic 5     Topic 6        Topic 7        Topic 8    \n",
      "-------          -------     -------     -------  -------     -------        -------        -------    \n",
      "martinomalley    marcorubio  johnkasich  crooked  tedcruz     senate         berniesanders  trump      \n",
      "hillaryclinton   teammarco   kasich      hillary  cruz        florida        people         hillary    \n",
      "realdonaldtrump  vote        ohio        thank    ted         zika           bernie         donald     \n",
      "campaigning      flsen       john        great    internet    venezuela      must           president  \n",
      "maryland         click       gov         clinton  choosecruz  nicolasmaduro  change         timkaine   \n",
      "\n",
      "\n",
      "RANK 4 KEYWORDS:\n",
      "------------------\n",
      "Topic 1     Topic 2          Topic 3     Topic 4        \n",
      "-------     -------          -------     -------        \n",
      "johnkasich  crooked          tedcruz     trump          \n",
      "kasich      hillary          cruz        hillary        \n",
      "ohio        thank            ted         vote           \n",
      "john        great            internet    people         \n",
      "gov         realdonaldtrump  choosecruz  berniesanders  \n",
      "\n",
      "\n",
      "RANK 2 KEYWORDS:\n",
      "------------------\n",
      "Topic 1          Topic 2     \n",
      "-------          -------     \n",
      "trump            tedcruz     \n",
      "hillary          cruz        \n",
      "people           ted         \n",
      "vote             johnkasich  \n",
      "realdonaldtrump  kasich      \n"
     ]
    }
   ],
   "source": [
    "display_text(Factors_0[2], 5)\n",
    "print()\n",
    "display_text(Factors_1[2], 5)\n",
    "print()\n",
    "display_text(Factors_2[2], 5)"
   ]
  },
  {
   "cell_type": "code",
   "execution_count": 10,
   "metadata": {},
   "outputs": [],
   "source": [
    "i = [7,5,0,6,4,2,1,3]\n",
    "i2 = [3,2,0,1]"
   ]
  },
  {
   "cell_type": "code",
   "execution_count": 11,
   "metadata": {},
   "outputs": [
    {
     "data": {
      "image/png": "[encoded data removed]",
      "text/plain": [
       "<Figure size 792x288 with 16 Axes>"
      ]
     },
     "metadata": {
      "needs_background": "light"
     },
     "output_type": "display_data"
    },
    {
     "data": {
      "image/png": "[encoded data removed]",
      "text/plain": [
       "<Figure size 489.6x288 with 8 Axes>"
      ]
     },
     "metadata": {
      "needs_background": "light"
     },
     "output_type": "display_data"
    },
    {
     "data": {
      "image/png": "[encoded data removed]",
      "text/plain": [
       "<Figure size 331.2x288 with 4 Axes>"
      ]
     },
     "metadata": {
      "needs_background": "light"
     },
     "output_type": "display_data"
    }
   ],
   "source": [
    "show_factors(Factors_0[0][:,i], Factors_0[1][:,i], figsize=(11,4))\n",
    "show_factors(Factors_1[0][:,i2], Factors_1[1][:,i2], figsize=(6.8,4))\n",
    "show_factors(Factors_2[0], Factors_2[1], figsize=(4.6,4))"
   ]
  },
  {
   "cell_type": "code",
   "execution_count": 12,
   "metadata": {},
   "outputs": [
    {
     "name": "stdout",
     "output_type": "stream",
     "text": [
      "\n",
      "For LaTeX table...\n",
      "------------------\n",
      "trump & senate & martinomalley & berniesanders \\\\\n",
      "hillary & florida & hillaryclinton & people \\\\\n",
      "donald & zika & realdonaldtrump & bernie \\\\\n",
      "president & venezuela & campaigning & must \\\\\n",
      "timkaine & nicolasmaduro & maryland & change \\\\\n",
      "tedcruz & johnkasich & marcorubio & crooked \\\\\n",
      "cruz & kasich & teammarco & hillary \\\\\n",
      "ted & ohio & vote & thank \\\\\n",
      "internet & john & flsen & great \\\\\n",
      "choosecruz & gov & click & clinton \\\\\n",
      "\n",
      "\n",
      "\n",
      "For LaTeX table...\n",
      "------------------\n",
      "trump & tedcruz \\\\\n",
      "hillary & cruz \\\\\n",
      "vote & ted \\\\\n",
      "people & internet \\\\\n",
      "berniesanders & choosecruz \\\\\n",
      "johnkasich & crooked \\\\\n",
      "kasich & hillary \\\\\n",
      "ohio & thank \\\\\n",
      "john & great \\\\\n",
      "gov & realdonaldtrump \\\\\n",
      "\n",
      "\n",
      "\n",
      "For LaTeX table...\n",
      "------------------\n",
      "trump \\\\\n",
      "hillary \\\\\n",
      "people \\\\\n",
      "vote \\\\\n",
      "realdonaldtrump \\\\\n",
      "tedcruz \\\\\n",
      "cruz \\\\\n",
      "ted \\\\\n",
      "johnkasich \\\\\n",
      "kasich \\\\\n",
      "\n",
      "\n"
     ]
    }
   ],
   "source": [
    "display_text(Factors_0[2][:,i], 5, latex=True)\n",
    "display_text(Factors_1[2][:,i2], 5, latex=True)\n",
    "display_text(Factors_2[2], 5, latex=True)"
   ]
  },
  {
   "cell_type": "markdown",
   "metadata": {},
   "source": [
    "## Extra: Visualize the W Matrices"
   ]
  },
  {
   "cell_type": "code",
   "execution_count": 13,
   "metadata": {},
   "outputs": [
    {
     "data": {
      "text/plain": [
       "<matplotlib.image.AxesImage at 0x13cb87f10>"
      ]
     },
     "execution_count": 13,
     "metadata": {},
     "output_type": "execute_result"
    },
    {
     "data": {
      "image/png": "[encoded data removed]",
      "text/plain": [
       "<Figure size 432x288 with 1 Axes>"
      ]
     },
     "metadata": {
      "needs_background": "light"
     },
     "output_type": "display_data"
    }
   ],
   "source": [
    "plt.imshow(W[i])"
   ]
  },
  {
   "cell_type": "code",
   "execution_count": 14,
   "metadata": {},
   "outputs": [
    {
     "data": {
      "text/plain": [
       "<matplotlib.image.AxesImage at 0x13bb02750>"
      ]
     },
     "execution_count": 14,
     "metadata": {},
     "output_type": "execute_result"
    },
    {
     "data": {
      "image/png": "[encoded data removed]",
      "text/plain": [
       "<Figure size 432x288 with 1 Axes>"
      ]
     },
     "metadata": {
      "needs_background": "light"
     },
     "output_type": "display_data"
    }
   ],
   "source": [
    "plt.imshow(W2)"
   ]
  }
 ],
 "metadata": {
  "kernelspec": {
   "display_name": "Python 3",
   "language": "python",
   "name": "python3"
  },
  "language_info": {
   "codemirror_mode": {
    "name": "ipython",
    "version": 3
   },
   "file_extension": ".py",
   "mimetype": "text/x-python",
   "name": "python",
   "nbconvert_exporter": "python",
   "pygments_lexer": "ipython3",
   "version": "3.7.4"
  }
 },
 "nbformat": 4,
 "nbformat_minor": 2
}
